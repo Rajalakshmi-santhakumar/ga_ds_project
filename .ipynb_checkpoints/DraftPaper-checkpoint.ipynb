{
 "cells": [
  {
   "cell_type": "markdown",
   "metadata": {},
   "source": [
    "# Problem\n",
    "Can we predict return on ad spend for a brand advertising on Amazon's online display ad platform?"
   ]
  },
  {
   "cell_type": "markdown",
   "metadata": {},
   "source": [
    "# Hypothesis\n",
    "Product success and ad dollars spent can predict a campaign's performance. "
   ]
  },
  {
   "cell_type": "markdown",
   "metadata": {},
   "source": [
    "# How does advertising with Amazon work?\n",
    "\n",
    "* Advertisers buy display ads to drive consumers to purchase their products\n",
    "* Consumers are targeted with Amazon ads all over the web on any device \n",
    "* When a consumer (who was shown then ad) buys the product, that impression (and campaign) is credited with the purchase\n",
    "* Return on ad spend (ROAS) = sales driven / ad spend (e.g. a brand ran a 20,000 dollar ad campaign which drove 50,000 dollars in product sales, equalling a 2.50 ROAS)"
   ]
  },
  {
   "cell_type": "markdown",
   "metadata": {},
   "source": [
    "## Data\n",
    "\n",
    "I pulled campaign data from the year 2017 for all US advertisers in our data warehouse. This data I was able to export to a CSV nicely and with no cleaning up to do. There were nulls but I validated that they were correctly null as the specific columns did not relate to the campaign type. I have 13,800 rows from this source. Example of the dataset below."
   ]
  },
  {
   "cell_type": "code",
   "execution_count": 2,
   "metadata": {},
   "outputs": [
    {
     "data": {
      "text/html": [
       "<div>\n",
       "<style>\n",
       "    .dataframe thead tr:only-child th {\n",
       "        text-align: right;\n",
       "    }\n",
       "\n",
       "    .dataframe thead th {\n",
       "        text-align: left;\n",
       "    }\n",
       "\n",
       "    .dataframe tbody tr th {\n",
       "        vertical-align: top;\n",
       "    }\n",
       "</style>\n",
       "<table border=\"1\" class=\"dataframe\">\n",
       "  <thead>\n",
       "    <tr style=\"text-align: right;\">\n",
       "      <th></th>\n",
       "      <th>advertiser_name</th>\n",
       "      <th>campaign_start</th>\n",
       "      <th>campaign_end</th>\n",
       "      <th>impressions</th>\n",
       "      <th>product_sales_$_total</th>\n",
       "    </tr>\n",
       "  </thead>\n",
       "  <tbody>\n",
       "    <tr>\n",
       "      <th>0</th>\n",
       "      <td>x</td>\n",
       "      <td>1/13/2017 5:00</td>\n",
       "      <td>2/3/2017 4:59</td>\n",
       "      <td>5798405</td>\n",
       "      <td>924.84</td>\n",
       "    </tr>\n",
       "    <tr>\n",
       "      <th>1</th>\n",
       "      <td>x</td>\n",
       "      <td>1/13/2017 5:00</td>\n",
       "      <td>2/3/2017 4:59</td>\n",
       "      <td>5798405</td>\n",
       "      <td>924.84</td>\n",
       "    </tr>\n",
       "    <tr>\n",
       "      <th>2</th>\n",
       "      <td>x</td>\n",
       "      <td>1/13/2017 5:00</td>\n",
       "      <td>2/3/2017 4:59</td>\n",
       "      <td>2563430</td>\n",
       "      <td>562.32</td>\n",
       "    </tr>\n",
       "    <tr>\n",
       "      <th>3</th>\n",
       "      <td>x</td>\n",
       "      <td>1/13/2017 5:00</td>\n",
       "      <td>2/3/2017 4:59</td>\n",
       "      <td>2563430</td>\n",
       "      <td>562.32</td>\n",
       "    </tr>\n",
       "    <tr>\n",
       "      <th>4</th>\n",
       "      <td>x</td>\n",
       "      <td>1/13/2017 5:00</td>\n",
       "      <td>2/3/2017 4:59</td>\n",
       "      <td>5798405</td>\n",
       "      <td>924.84</td>\n",
       "    </tr>\n",
       "  </tbody>\n",
       "</table>\n",
       "</div>"
      ],
      "text/plain": [
       "  advertiser_name  campaign_start   campaign_end  impressions  \\\n",
       "0               x  1/13/2017 5:00  2/3/2017 4:59      5798405   \n",
       "1               x  1/13/2017 5:00  2/3/2017 4:59      5798405   \n",
       "2               x  1/13/2017 5:00  2/3/2017 4:59      2563430   \n",
       "3               x  1/13/2017 5:00  2/3/2017 4:59      2563430   \n",
       "4               x  1/13/2017 5:00  2/3/2017 4:59      5798405   \n",
       "\n",
       "   product_sales_$_total  \n",
       "0                 924.84  \n",
       "1                 924.84  \n",
       "2                 562.32  \n",
       "3                 562.32  \n",
       "4                 924.84  "
      ]
     },
     "execution_count": 2,
     "metadata": {},
     "output_type": "execute_result"
    }
   ],
   "source": [
    "import pandas as pd\n",
    "campaign = pd.read_csv('Campaignswithasins.csv')\n",
    "campaign.advertiser_name = 'x' #advertiser name hidden for privacy concerns \n",
    "campaign[['advertiser_name','campaign_start','campaign_end','impressions','product_sales_$_total']].head(5)"
   ]
  },
  {
   "cell_type": "markdown",
   "metadata": {},
   "source": [
    "However, I had trouble getting ASIN (Amazon Standard Identification Number) data because in our data warehouse, we store one ASIN per row per campaign which would duplicate each campaign row as many as 100 times. I tried to convert the rows to an array in a single column using Redshift's LISTAGG function but ran into the issue of having too many characters (from all the ASINs) to convert to an array. I then decided to limit the number of ASINs per campaign to five, which would allow me to get a sample of the products without the technical difficulties of pulling the data. I used the row_number window function to filter out excess ASINs. This will be a known limitation in the model if it is determined that ASINs play a large role in predicting ROAS.\n",
    "\n",
    "With the additional ASIN data I increased my dataset to 38,929 rows.\n",
    "\n",
    "Even though I now have the associated ASINs for each campaign, I do not have the ASIN's attributes such as price, rating, number of reviews, etc. I do not have access to this data through work because I am in a different organization. I considered using Amazon's Product API to get the data, but I needed to sign up as an associate and have a website. Therefore I built a webscraper to pull attributes off Amazon's website based on the ASIN. Example of the code below. "
   ]
  },
  {
   "cell_type": "code",
   "execution_count": null,
   "metadata": {
    "collapsed": true
   },
   "outputs": [],
   "source": [
    "from selenium import webdriver\n",
    "import pandas as pd\n",
    "from selenium.webdriver.common.by import By\n",
    "from selenium.webdriver.support.ui import WebDriverWait\n",
    "from selenium.webdriver.support import expected_conditions as EC\n",
    "\n",
    "asins = pd.read_csv('asins.csv')\n",
    "asindetails = pd.DataFrame(columns=['asin','price'])\n",
    "asinsfailed = []\n",
    "\n",
    "driver = webdriver.Chrome()\n",
    "driver.implicitly_wait(10)\n",
    "\n",
    "for index, row in asins.iterrows():\n",
    "    if index <= 0:\n",
    "        global asindetails\n",
    "        global asinsfailed\n",
    "        baseurl = 'https://www.amazon.com/exec/obidos/ASIN/'\n",
    "        driver.get(baseurl + str(row[0]))\n",
    "        try:\n",
    "            WebDriverWait(driver, 10).until(\n",
    "                EC.presence_of_element_located((By.XPATH, \"//*[@id='priceblock_ourprice']\"))\n",
    "                )\n",
    "        except: \n",
    "            continue \n",
    "        temp = pd.DataFrame({\n",
    "            'asin': row[0],\\\n",
    "            'price': [driver.find_element_by_xpath(\"//*[@id='priceblock_ourprice']\").text.replace('$','')]\n",
    "            #'reviews': [driver.find_element_by_xpath(\"//*[@id='acrCustomerReviewText']\").text.replace(' customer reviews','').replace(' customer review','')],\\\n",
    "            #'rating': [driver.find_element_by_xpath(\"//*[@id='reviewSummary']/div[2]/span/a/span\").text.replace(' out of 5 stars','')],\\\n",
    "            #'category': [driver.find_element_by_xpath(\"//*[@id='wayfinding-breadcrumbs_feature_div']/ul/li[1]/span/a\").text]\n",
    "            })\n",
    "        asindetails = asindetails.append(temp)\n",
    "        asindetails.to_csv(\"asinprice_1-100.csv\")\n",
    "\n",
    "print \"Job Complete\""
   ]
  },
  {
   "cell_type": "markdown",
   "metadata": {},
   "source": [
    "I was able to extract price, category, and number of reviews from scraping the detail pages. For some ASINs, I was not able to get certain attributes because it couldn't be found on the web page; for example, no price listing (if item is out of stock), no customer reviews yet, etc.\n",
    "\n",
    "Example of the new data below."
   ]
  },
  {
   "cell_type": "code",
   "execution_count": 30,
   "metadata": {},
   "outputs": [
    {
     "data": {
      "text/html": [
       "<div>\n",
       "<style>\n",
       "    .dataframe thead tr:only-child th {\n",
       "        text-align: right;\n",
       "    }\n",
       "\n",
       "    .dataframe thead th {\n",
       "        text-align: left;\n",
       "    }\n",
       "\n",
       "    .dataframe tbody tr th {\n",
       "        vertical-align: top;\n",
       "    }\n",
       "</style>\n",
       "<table border=\"1\" class=\"dataframe\">\n",
       "  <thead>\n",
       "    <tr style=\"text-align: right;\">\n",
       "      <th></th>\n",
       "      <th>advertiser_name</th>\n",
       "      <th>asin</th>\n",
       "      <th>price</th>\n",
       "      <th>rating</th>\n",
       "      <th>reviews</th>\n",
       "      <th>category</th>\n",
       "    </tr>\n",
       "  </thead>\n",
       "  <tbody>\n",
       "    <tr>\n",
       "      <th>0</th>\n",
       "      <td>x</td>\n",
       "      <td>B0012HEVNM</td>\n",
       "      <td>NaN</td>\n",
       "      <td>NaN</td>\n",
       "      <td>NaN</td>\n",
       "      <td>NaN</td>\n",
       "    </tr>\n",
       "    <tr>\n",
       "      <th>1</th>\n",
       "      <td>x</td>\n",
       "      <td>B0012HEVJG</td>\n",
       "      <td>42.48</td>\n",
       "      <td>4.3</td>\n",
       "      <td>995.0</td>\n",
       "      <td>Grocery &amp; Gourmet Food</td>\n",
       "    </tr>\n",
       "    <tr>\n",
       "      <th>2</th>\n",
       "      <td>x</td>\n",
       "      <td>B000LKTZNM</td>\n",
       "      <td>26.16</td>\n",
       "      <td>4.3</td>\n",
       "      <td>995.0</td>\n",
       "      <td>NaN</td>\n",
       "    </tr>\n",
       "    <tr>\n",
       "      <th>3</th>\n",
       "      <td>x</td>\n",
       "      <td>B0012HEVPU</td>\n",
       "      <td>30.00</td>\n",
       "      <td>4.3</td>\n",
       "      <td>995.0</td>\n",
       "      <td>Grocery &amp; Gourmet Food</td>\n",
       "    </tr>\n",
       "  </tbody>\n",
       "</table>\n",
       "</div>"
      ],
      "text/plain": [
       "  advertiser_name        asin  price  rating  reviews                category\n",
       "0               x  B0012HEVNM    NaN     NaN      NaN                     NaN\n",
       "1               x  B0012HEVJG  42.48     4.3    995.0  Grocery & Gourmet Food\n",
       "2               x  B000LKTZNM  26.16     4.3    995.0                     NaN\n",
       "3               x  B0012HEVPU  30.00     4.3    995.0  Grocery & Gourmet Food"
      ]
     },
     "execution_count": 30,
     "metadata": {},
     "output_type": "execute_result"
    }
   ],
   "source": [
    "import pandas as pd\n",
    "campaigns = pd.read_csv('Campaignswithasins.csv')\n",
    "campaigns.advertiser_name = 'x' #advertiser name hidden for privacy concerns\n",
    "prices = pd.read_csv('asinprices.csv')\n",
    "rating = pd.read_csv('asinrating.csv')\n",
    "reviews = pd.read_csv('asinreviews.csv')\n",
    "category = pd.read_csv('asincat.csv')\n",
    "campaignswithprices = campaigns.merge(prices, on='asin', how='left')\n",
    "campaignswithrating = campaignswithprices.merge(rating, on='asin', how='left')\n",
    "campaignswithreviews = campaignswithrating.merge(reviews, on='asin', how='left')\n",
    "campaignswithcat = campaignswithreviews.merge(category, on='asin', how='left')\n",
    "campaignswithcat[['advertiser_name','asin','price','rating','reviews','category']].head(4)"
   ]
  },
  {
   "cell_type": "markdown",
   "metadata": {
    "collapsed": true
   },
   "source": [
    "I then removed the asins and transformed the data to take the averages of price, rating, reviews grouped by campaign so that I did not have duplicates anymore. \n",
    "\n",
    "Then I saved the new data in a CSV as my completed data set."
   ]
  },
  {
   "cell_type": "code",
   "execution_count": 46,
   "metadata": {},
   "outputs": [],
   "source": [
    "campaignsaveraged = campaignswithcat.groupby(['advertiser_name','ad_campaign_id','campaign_name','ad_type','campaign_start','campaign_end','optimization_type','category']).mean()\n",
    "\n",
    "#campaignsaveraged.to_csv('completecampaigns.csv')"
   ]
  },
  {
   "cell_type": "markdown",
   "metadata": {
    "collapsed": true
   },
   "source": [
    "## Modeling"
   ]
  },
  {
   "cell_type": "code",
   "execution_count": null,
   "metadata": {
    "collapsed": true
   },
   "outputs": [],
   "source": []
  },
  {
   "cell_type": "code",
   "execution_count": null,
   "metadata": {
    "collapsed": true
   },
   "outputs": [],
   "source": []
  },
  {
   "cell_type": "code",
   "execution_count": null,
   "metadata": {
    "collapsed": true
   },
   "outputs": [],
   "source": []
  },
  {
   "cell_type": "code",
   "execution_count": null,
   "metadata": {
    "collapsed": true
   },
   "outputs": [],
   "source": []
  },
  {
   "cell_type": "code",
   "execution_count": null,
   "metadata": {
    "collapsed": true
   },
   "outputs": [],
   "source": []
  },
  {
   "cell_type": "code",
   "execution_count": null,
   "metadata": {
    "collapsed": true
   },
   "outputs": [],
   "source": []
  }
 ],
 "metadata": {
  "kernelspec": {
   "display_name": "Python 2",
   "language": "python",
   "name": "python2"
  },
  "language_info": {
   "codemirror_mode": {
    "name": "ipython",
    "version": 2
   },
   "file_extension": ".py",
   "mimetype": "text/x-python",
   "name": "python",
   "nbconvert_exporter": "python",
   "pygments_lexer": "ipython2",
   "version": "2.7.14"
  }
 },
 "nbformat": 4,
 "nbformat_minor": 2
}
